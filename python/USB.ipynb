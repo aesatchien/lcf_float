{
 "cells": [
  {
   "cell_type": "code",
   "execution_count": 2,
   "metadata": {},
   "outputs": [
    {
     "name": "stdout",
     "output_type": "stream",
     "text": [
      "USB\\ROOT_HUB30\\4&23FC78D3&0&0\n",
      "USB\\VID_03F0&PID_9D1D\\0123456789ABCDEF\n",
      "USB\\VID_046D&PID_C52F\\5&525C0D8&0&2\n",
      "USB\\VID_04F2&PID_B58F\\5&525C0D8&0&7\n",
      "USB\\VID_04F2&PID_B58E\\0X0001\n"
     ]
    }
   ],
   "source": [
    "import win32com.client\n",
    "\n",
    "wmi = win32com.client.GetObject (\"winmgmts:\")\n",
    "for usb in wmi.InstancesOf (\"Win32_USBHub\"):\n",
    "    print(usb.DeviceID)"
   ]
  },
  {
   "cell_type": "code",
   "execution_count": 24,
   "metadata": {},
   "outputs": [
    {
     "name": "stdout",
     "output_type": "stream",
     "text": [
      "USB\\ROOT_HUB30\\4&23FC78D3&0&0\n",
      "USB\\VID_03F0&PID_9D1D\\0123456789ABCDEF\n",
      "USB\\VID_04F2&PID_B58F\\5&525C0D8&0&7\n",
      "USB\\VID_04F2&PID_B58E\\0X0001\n",
      "USB\\VID_090C&PID_1000\\AA330463000360007889\n",
      "USB\\VID_0000&PID_0002\\5&525C0D8&0&1\n"
     ]
    }
   ],
   "source": [
    "wmi = win32com.client.GetObject (\"winmgmts:\")\n",
    "for usb in wmi.InstancesOf (\"Win32_USBHub\"):\n",
    "    print(usb.DeviceID)"
   ]
  },
  {
   "cell_type": "code",
   "execution_count": 17,
   "metadata": {},
   "outputs": [],
   "source": [
    "import serial as ser\n",
    "import serial.tools.list_ports as prtlst\n",
    "\n",
    "global COMs\n",
    "COMs=[]\n",
    "def getCOMs():\n",
    "    global COMs\n",
    "    pts= prtlst.comports()\n",
    "\n",
    "    for pt in pts:\n",
    "        if 'USB' in pt[1]: #check 'USB' string in device description\n",
    "            COMs.append(pt[0])"
   ]
  },
  {
   "cell_type": "code",
   "execution_count": 25,
   "metadata": {},
   "outputs": [
    {
     "name": "stdout",
     "output_type": "stream",
     "text": [
      "Decimal VendorID=1008 & ProductID=40221\n",
      "Hexadecimal VendorID=0x3f0 & ProductID=0x9d1d\n",
      "\n",
      "Decimal VendorID=1266 & ProductID=46478\n",
      "Hexadecimal VendorID=0x4f2 & ProductID=0xb58e\n",
      "\n",
      "Decimal VendorID=32902 & ProductID=40239\n",
      "Hexadecimal VendorID=0x8086 & ProductID=0x9d2f\n",
      "\n",
      "Decimal VendorID=1008 & ProductID=40221\n",
      "Hexadecimal VendorID=0x3f0 & ProductID=0x9d1d\n",
      "\n",
      "Decimal VendorID=0 & ProductID=0\n",
      "Hexadecimal VendorID=0x0 & ProductID=0x0\n",
      "\n",
      "Decimal VendorID=32903 & ProductID=2603\n",
      "Hexadecimal VendorID=0x8087 & ProductID=0xa2b\n",
      "\n",
      "Decimal VendorID=5002 & ProductID=146\n",
      "Hexadecimal VendorID=0x138a & ProductID=0x92\n",
      "\n",
      "Decimal VendorID=2316 & ProductID=4096\n",
      "Hexadecimal VendorID=0x90c & ProductID=0x1000\n",
      "\n",
      "Decimal VendorID=1266 & ProductID=46479\n",
      "Hexadecimal VendorID=0x4f2 & ProductID=0xb58f\n",
      "\n",
      "Decimal VendorID=1266 & ProductID=46478\n",
      "Hexadecimal VendorID=0x4f2 & ProductID=0xb58e\n",
      "\n"
     ]
    }
   ],
   "source": [
    "#!/usr/bin/python\n",
    "import sys\n",
    "import usb.core\n",
    "# find USB devices\n",
    "dev = usb.core.find(find_all=True)\n",
    "# loop through devices, printing vendor and product ids in decimal and hex\n",
    "for cfg in dev:\n",
    "  sys.stdout.write('Decimal VendorID=' + str(cfg.idVendor) + ' & ProductID=' + str(cfg.idProduct) + '\\n')\n",
    "  sys.stdout.write('Hexadecimal VendorID=' + hex(cfg.idVendor) + ' & ProductID=' + hex(cfg.idProduct) + '\\n\\n')"
   ]
  },
  {
   "cell_type": "code",
   "execution_count": 14,
   "metadata": {},
   "outputs": [],
   "source": [
    "import win32com.client\n",
    "strComputer = \".\"\n",
    "objWMIService = win32com.client.Dispatch(\"WbemScripting.SWbemLocator\")\n",
    "objSWbemServices = objWMIService.ConnectServer(strComputer,\"root\\cimv2\")\n",
    "colItems = objSWbemServices.ExecQuery(\"SELECT * FROM Win32_PnPEntity\")\n",
    "for objItem in colItems:\n",
    "    if(objItem.Name!=None and objItem.Name=='USB Token'):\n",
    "        print(\"Name:\" + objItem.Name)\n",
    "        print(\"Status:\" + objItem.Status)\n",
    "        print(\"Manufacturer:\" + objItem.Manufacturer)\n",
    "        print(\"DeviceID:\" + objItem.DeviceID)\n",
    "        print(\"Status:\" + objItem.Status)"
   ]
  },
  {
   "cell_type": "code",
   "execution_count": 23,
   "metadata": {},
   "outputs": [
    {
     "data": {
      "text/plain": [
       "['D:\\\\']"
      ]
     },
     "execution_count": 23,
     "metadata": {},
     "output_type": "execute_result"
    }
   ],
   "source": [
    "def locate_usb():\n",
    "    import win32file\n",
    "    drive_list = []\n",
    "    drivebits=win32file.GetLogicalDrives()\n",
    "    for d in range(1,26):\n",
    "        mask=1 << d\n",
    "        if drivebits & mask:\n",
    "            # here if the drive is at least there\n",
    "            drname='%c:\\\\' % chr(ord('A')+d)\n",
    "            t=win32file.GetDriveType(drname)\n",
    "            if t == win32file.DRIVE_REMOVABLE:\n",
    "                drive_list.append(drname)\n",
    "    return drive_list\n",
    "locate_usb()"
   ]
  }
 ],
 "metadata": {
  "kernelspec": {
   "display_name": "Python 3",
   "language": "python",
   "name": "python3"
  },
  "language_info": {
   "codemirror_mode": {
    "name": "ipython",
    "version": 3
   },
   "file_extension": ".py",
   "mimetype": "text/x-python",
   "name": "python",
   "nbconvert_exporter": "python",
   "pygments_lexer": "ipython3",
   "version": "3.7.0"
  }
 },
 "nbformat": 4,
 "nbformat_minor": 4
}
