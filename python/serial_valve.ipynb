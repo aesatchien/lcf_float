{
 "cells": [
  {
   "cell_type": "code",
   "execution_count": 471,
   "metadata": {},
   "outputs": [],
   "source": [
    "import serial\n",
    "import io\n",
    "import time\n",
    "import threading\n",
    "import sys\n",
    "from pyModbusTCP.client import ModbusClient\n",
    "from pyModbusTCP import utils\n",
    "import re"
   ]
  },
  {
   "cell_type": "markdown",
   "metadata": {},
   "source": [
    "#### Need to:\n",
    "#####  1  Poll requests from Molly as they are requested and send responses\n",
    "#####   a  Poll valve settings over TCP/IP and send back to molly (does it time out?  is the 'single serial link' of the 800 series?)\n",
    "#####   b  Wait for request to change SL from Molly\n",
    "#####   c Send new PV to TCP/IP"
   ]
  },
  {
   "cell_type": "code",
   "execution_count": 523,
   "metadata": {},
   "outputs": [],
   "source": [
    "# data structures\n",
    "# SMC stuff\n",
    "modbus_registers = {'PV':100, 'SP': 102, 'SL':134, 'RR':136, 'OP':8}\n",
    "smc_values = {'PV':0, 'SP': 0, 'SL':0, 'RR':0, 'OP':0}\n",
    "# bisync stuff - back and forth to Molly\n",
    "# SL is the command to send a new setpoint\n",
    "bisync_commands = ['PV','SP','ER','SL','RR','OP']"
   ]
  },
  {
   "cell_type": "code",
   "execution_count": 455,
   "metadata": {},
   "outputs": [],
   "source": [
    "# Classes to allow for reading and writing floats to the SMC\n",
    "class FloatModbusClient(ModbusClient):\n",
    "    def read_float(self, address, number=1):\n",
    "        reg_l = self.read_holding_registers(address, number * 2)\n",
    "        if reg_l:\n",
    "            return [utils.decode_ieee(f) for f in utils.word_list_to_long(reg_l)][0]\n",
    "        else:\n",
    "            return None\n",
    "\n",
    "    def write_float(self, address, floats_list):\n",
    "        b32_l = [utils.encode_ieee(f) for f in floats_list]\n",
    "        b16_l = utils.long_list_to_word(b32_l)\n",
    "        return self.write_multiple_registers(address, b16_l)\n"
   ]
  },
  {
   "cell_type": "code",
   "execution_count": 454,
   "metadata": {},
   "outputs": [],
   "source": [
    "def set_setpoint_eu808(ser, setpoint):\n",
    "# This does not work - the SMC will not listen over the serial port\n",
    "    if setpoint < 0 or setpoint > 300:\n",
    "        print('Invalid range for setpoint, must be between 0 and 300')\n",
    "        return\n",
    "    if ser.is_open:\n",
    "        msg = b'\\x041100SP' + bytes(str(setpoint), encoding='ascii') + b'\\x05'\n",
    "        print(f\"Sending '{msg}' to {ser.port}\")\n",
    "        #ser.write(bytes(msg, encoding='ascii'))\n",
    "        ser.write(msg)\n",
    "    else:\n",
    "        print('Serial port {ser} is not open')\n",
    "    time.sleep(0.02)\n",
    "    return ser.readline()\n",
    "\n",
    "def read_setpoint_from_eu808(ser, address):\n",
    "# This one should not require a checksum\n",
    "    # EOT(x04) UNIT_ADDRESS MNEMONIC ENQ (x05)\n",
    "    if ser.is_open:\n",
    "        add_str = str(address)\n",
    "        add_formatted = bytes(2*add_str[0]+2*add_str[1], encoding='ascii')\n",
    "        msg = b'\\x04'+add_formatted+b'PV\\x05'\n",
    "        print(f\"Sending {msg} to {ser.port}\")\n",
    "        #ser.write(bytes(msg, encoding='ascii'))\n",
    "        ser.write(msg)\n",
    "    else:\n",
    "        print('Serial port {ser} is not open')\n",
    "    time.sleep(0.2)\n",
    "    return ser.readline()\n",
    "\n",
    "def respond_to_molly(key, value):\n",
    "    '''Send a single value to Molly'''       \n",
    "    # STX (x02) MNEMONIC DATA ETX (x03) BCC\n",
    "    key_formatted = bytes(key, encoding='ascii')\n",
    "    if type(value)==str:\n",
    "        round_value = value\n",
    "    else:\n",
    "        round_value = str(round(value,2))\n",
    "    value_formatted = bytes(round_value, encoding='ascii')\n",
    "    msg = b'\\x02'+key_formatted+value_formatted+b'\\x03'\n",
    "    msg = msg + check_sum(msg)\n",
    "    print(f'sending {str(msg)} to molly')\n",
    "    if ser.is_open:\n",
    "        ser.write(msg)\n",
    "    else:\n",
    "        print(f\"Serial port {ser.port} not open\")\n",
    "            \n",
    "def update_molly():\n",
    "    '''Send all valve parameters to Molly'''\n",
    "    for key in smc_values:\n",
    "        respond_to_molly(key, smc_values[key])"
   ]
  },
  {
   "cell_type": "code",
   "execution_count": 578,
   "metadata": {},
   "outputs": [],
   "source": [
    "# CJH functions to get and set values on the SMC via TCP/IP\n",
    "def get_valve_values(verbose=True):\n",
    "    ''' Ask for all values from the SMC'''\n",
    "    c = FloatModbusClient(host='192.168.1.240', port=0, auto_open=True)\n",
    "    # open or reconnect TCP to server\n",
    "    if not c.is_open():\n",
    "        if not c.open():\n",
    "            print(\"unable to connect to \"+SERVER_HOST+\":\"+str(SERVER_PORT))\n",
    "    if c.is_open():\n",
    "        for key in modbus_registers:\n",
    "            smc_values[key] = c.read_float(modbus_registers[key], 1)\n",
    "            #float_l = c.read_float(modbus_dict[key], 1)\n",
    "            #print(f'Key: {key}  Value:{float_l}')\n",
    "        c.close()\n",
    "    if verbose:\n",
    "        print(f'SMV values: {smc_values}') \n",
    "    \n",
    "def set_valve(setpoint=0):\n",
    "    '''Write valve setpoint to SMC'''\n",
    "    if setpoint < 0 or setpoint > 300:\n",
    "        return\n",
    "    # open or reconnect TCP to server\n",
    "    c = FloatModbusClient(host='192.168.1.240', port=0, auto_open=True)\n",
    "    if not c.is_open():\n",
    "        if not c.open():\n",
    "            print(\"unable to connect to \"+SERVER_HOST+\":\"+str(SERVER_PORT))\n",
    "    if c.is_open():\n",
    "        c.write_float(modbus_registers['SL'], [setpoint])\n",
    "        c.close() "
   ]
  },
  {
   "cell_type": "code",
   "execution_count": 579,
   "metadata": {},
   "outputs": [
    {
     "name": "stdout",
     "output_type": "stream",
     "text": [
      "message: b'\\x02SL   0.0\\x03', running check_sum: 18 (hex 0x12) --> b'\\x02SL   0.0\\x03\\x12'\n",
      "message: b'\\x02SL 155.0\\x03', running check_sum: 19 (hex 0x13) --> b'\\x02SL 155.0\\x03\\x13'\n",
      "message: b'\\x02SL 300.0\\x03', running check_sum: 17 (hex 0x11) --> b'\\x02SL 300.0\\x03\\x11'\n"
     ]
    }
   ],
   "source": [
    "def check_sum(message, debug=False):\n",
    "    # Need this to finish the formatting of a message going back to Molly\n",
    "    msg = message\n",
    "    # Skip the first ETX (msg[0]), then XOR everything else\n",
    "    result = msg[1]^msg[2]\n",
    "    for char in msg[3:]:\n",
    "        result = result ^ char\n",
    "    if debug:\n",
    "        print(f\"message: {msg}, running check_sum: {result} (hex {hex(result)}) --> \" + str(msg + bytes(chr(result),encoding='ascii')))\n",
    "    return bytes(chr(result),encoding='ascii')\n",
    "\n",
    "#for req in molly_change_requests:\n",
    "#    check_sum(req[5:-1],debug=True)"
   ]
  },
  {
   "cell_type": "code",
   "execution_count": 307,
   "metadata": {},
   "outputs": [],
   "source": [
    "# note - this opens the port\n",
    "#ser = serial.Serial('COM25', 9600, timeout=0.5)"
   ]
  },
  {
   "cell_type": "code",
   "execution_count": 539,
   "metadata": {},
   "outputs": [],
   "source": [
    "# ser.open()\n",
    "ser.close()"
   ]
  },
  {
   "cell_type": "code",
   "execution_count": 541,
   "metadata": {},
   "outputs": [],
   "source": [
    "# test writing with a paperclip between pins 2 and 3 - seems to work fine\n",
    "#COM24 is my RS232, 25 is my 484\n",
    "ser = serial.Serial('COM24', 9600, timeout=0.25)"
   ]
  },
  {
   "cell_type": "code",
   "execution_count": 390,
   "metadata": {},
   "outputs": [],
   "source": [
    "# Recognizing Molly requests\n",
    "molly_change_requests = [b'\\x040011\\x02SL   0.0\\x03\\x12', b'\\x040011\\x02SL 155.0\\x03\\x13', b'\\x040011\\x02SL 300.0\\x03\\x11']\n",
    "molly_read_requests = [b'\\x040011SL\\x05', b'\\x040011SL\\x05', b'\\x040011PV\\x05', \n",
    "                       b'\\x040011SL\\x05', b'\\x040011SP\\x05', b'\\x040011SL\\x05', b'\\x040011OP\\x05']\n",
    "molly_requests = molly_change_requests + molly_read_requests\n",
    "# straight from the EU808 handbook - answers are 0x39, 0x2e, 0x1c, 0x2c\n",
    "# Note you always start with the 0x02, so it gets jammed in after the address\n",
    "bcc_examples = [ b'\\x02SW>0000\\x03', b'\\x02SP  44.\\x03', b'\\x02SL99\\x03',b'\\x02OP 61.9\\x03']"
   ]
  },
  {
   "cell_type": "code",
   "execution_count": null,
   "metadata": {},
   "outputs": [],
   "source": [
    "#Next steps: write an appropriate serial.threaded.Reader? protocol and see if it is handling molly requests as properly discretized events.  \n",
    "#Must be an EOT type thing in there somewhere  "
   ]
  },
  {
   "cell_type": "code",
   "execution_count": 569,
   "metadata": {},
   "outputs": [],
   "source": [
    "def parse_molly(requests, verbose=False, debug=False):\n",
    "    r_enq = re.compile(b'\\x04[0-9]+([A-Z]+)\\x05')\n",
    "    r_set = re.compile(b'\\\\x02SL([ 0-9A-Z.]+)\\\\x03')\n",
    "    for msg in requests:\n",
    "        \n",
    "        if len(r_enq.findall(msg))>0:\n",
    "            if verbose:\n",
    "                print(f\"Msg: {msg} ---> ENQ: {(r_enq.findall(msg))[0].decode('ascii')}  ---> SET: {r_set.findall(msg)}\", end=\"\\n\")\n",
    "            # do enquiry code here\n",
    "            enquiry_string = (r_enq.findall(msg))[0].decode('ascii')\n",
    "            if enquiry_string in bisync_commands:\n",
    "                print(f'Sending {enquiry_string} value of {smc_values[enquiry_string]} to Molly  (prompted by {msg})')\n",
    "                key = enquiry_string\n",
    "                if not debug:\n",
    "                    respond_to_molly(key, smc_values[key])            \n",
    "            else:\n",
    "                print(f'Invalid request: {enquiry_string}')\n",
    "        \n",
    "        if len(r_set.findall(msg))>0:\n",
    "            if verbose:\n",
    "                print(f\"Msg: {msg} ---> ENQ: {r_enq.findall(msg)}  ---> SET: {(r_set.findall(msg))[0].decode('ascii').strip()}\", end=\"\\n\")\n",
    "            # do setting code here            \n",
    "            setpoint = float((r_set.findall(msg))[0].decode('ascii'))\n",
    "            print(f'Setting SMC setpoint to: {setpoint}  (prompted by {msg})')\n",
    "            if not debug:\n",
    "                set_valve(setpoint)\n",
    "            \n",
    "#parse_molly(molly_requests, verbose=False, debug=True)"
   ]
  },
  {
   "cell_type": "code",
   "execution_count": 577,
   "metadata": {},
   "outputs": [
    {
     "name": "stdout",
     "output_type": "stream",
     "text": [
      "{'PV': 33.0, 'SP': 33.0, 'SL': 33.0, 'RR': 25.0, 'OP': 11.0}\n",
      "b'\\x040011PV\\x05' 8\n",
      "Sending PV value of 33.0 to Molly  (prompted by b'\\x040011PV\\x05')\n",
      "sending b'\\x02PV33.0\\x03\\x1b' to molly\n",
      "{'PV': 33.0, 'SP': 33.0, 'SL': 33.0, 'RR': 25.0, 'OP': 11.0}\n",
      "b'\\x040011SP\\x05' 8\n",
      "Sending SP value of 33.0 to Molly  (prompted by b'\\x040011SP\\x05')\n",
      "sending b'\\x02SP33.0\\x03\\x1e' to molly\n",
      "{'PV': 33.0, 'SP': 33.0, 'SL': 33.0, 'RR': 25.0, 'OP': 11.0}\n",
      "b'\\x040011OP\\x05' 8\n",
      "Sending OP value of 11.0 to Molly  (prompted by b'\\x040011OP\\x05')\n",
      "sending b'\\x02OP11.0\\x03\\x02' to molly\n",
      "{'PV': 33.0, 'SP': 33.0, 'SL': 33.0, 'RR': 25.0, 'OP': 11.0}\n",
      "b'\\x040011\\x02SL  10.0\\x03\\x03' 16\n",
      "Setting SMC setpoint to: 10.0  (prompted by b'\\x040011\\x02SL  10.0\\x03\\x03')\n",
      "{'PV': 10.0, 'SP': 10.0, 'SL': 10.0, 'RR': 25.0, 'OP': 3.3333332538604736}\n",
      "b'\\x040011PV\\x05' 8\n",
      "Sending PV value of 10.0 to Molly  (prompted by b'\\x040011PV\\x05')\n",
      "sending b'\\x02PV10.0\\x03\\x1a' to molly\n",
      "{'PV': 10.0, 'SP': 10.0, 'SL': 10.0, 'RR': 25.0, 'OP': 3.3333332538604736}\n",
      "b'\\x040011SP\\x05' 8\n",
      "Sending SP value of 10.0 to Molly  (prompted by b'\\x040011SP\\x05')\n",
      "sending b'\\x02SP10.0\\x03\\x1f' to molly\n"
     ]
    }
   ],
   "source": [
    "def continuous_monitoring(runtime=None, verbose=False, debug=False):\n",
    "    '''Continuously monitor Molly and translate requests to SMC'''\n",
    "    start_time = time.time()\n",
    "    elapsed_time = 0\n",
    "    timed_out = False\n",
    "    #flush the buffer - it's a pain to cut them all up\n",
    "    clear_buffer = ser.readline()\n",
    "    while timed_out is False:\n",
    "        if runtime is not None:\n",
    "            elapsed_time = time.time()-start_time\n",
    "            if elapsed_time > runtime:\n",
    "                timed_out = True\n",
    "        data=ser.readline()\n",
    "        if len(data) > 0:\n",
    "            get_valve_values(verbose=False)\n",
    "            print(data, len(data))\n",
    "            parse_molly([data], verbose=False, debug=False)\n",
    "            time.sleep(0.01)"
   ]
  },
  {
   "cell_type": "code",
   "execution_count": 588,
   "metadata": {},
   "outputs": [],
   "source": [
    "def reset_serial():\n",
    "    global ser\n",
    "    try:\n",
    "        if ser.is_open:\n",
    "            ser.close()\n",
    "        else:\n",
    "            pass\n",
    "    except NameError:\n",
    "        print(Error)\n",
    "    ser = serial.Serial('COM24', 9600, timeout=0.25)\n"
   ]
  },
  {
   "cell_type": "code",
   "execution_count": null,
   "metadata": {},
   "outputs": [],
   "source": []
  }
 ],
 "metadata": {
  "kernelspec": {
   "display_name": "Python 3",
   "language": "python",
   "name": "python3"
  },
  "language_info": {
   "codemirror_mode": {
    "name": "ipython",
    "version": 3
   },
   "file_extension": ".py",
   "mimetype": "text/x-python",
   "name": "python",
   "nbconvert_exporter": "python",
   "pygments_lexer": "ipython3",
   "version": "3.7.3"
  }
 },
 "nbformat": 4,
 "nbformat_minor": 4
}
