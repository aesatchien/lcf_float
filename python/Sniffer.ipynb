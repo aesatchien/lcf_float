{
 "cells": [
  {
   "cell_type": "code",
   "execution_count": 13,
   "metadata": {},
   "outputs": [],
   "source": [
    "from scapy.all import *\n",
    "import re"
   ]
  },
  {
   "cell_type": "code",
   "execution_count": 14,
   "metadata": {},
   "outputs": [],
   "source": [
    "conf.iface=\"Wi-Fi\""
   ]
  },
  {
   "cell_type": "code",
   "execution_count": 10,
   "metadata": {},
   "outputs": [],
   "source": [
    "'''\n",
    "def sniffData(pkt):\n",
    "    if pkt.haslayer( Raw ):   # Check for the Data layer\n",
    "        header = pkt.getlayer( Raw ).load    # Get the sent data\n",
    "        if header.startswith('GET'):     # Make sure it's a request\n",
    "            if '/search?' in header:\n",
    "                q = re.search(r'q=(.*)\\w', header)\n",
    "                if q:\n",
    "                    src = pkt.getlayer(IP).src\n",
    "                    query = q.group().split(' ')[0].lstrip('q=')\n",
    "                    print \"%s searched for %s\" % (src, query)\n",
    "'''\n",
    "def sniffData(pkt):\n",
    "    if pkt.haslayer( Raw ):   # Check for the Data layer\n",
    "        header = pkt.getlayer( Raw ).load    # Get the sent data\n",
    "        header = str(header)\n",
    "#        if header.startswith('GET'):     # Make sure it's a request\n",
    "#            if '/search?' in header:\n",
    "        q = re.search(r'q=(.*)\\w', header)\n",
    "        if q:\n",
    "            src = pkt.getlayer(IP).src\n",
    "            query = q.group().split(' ')[0].lstrip('q=')\n",
    "            print (header)\n",
    "            print (f\"{src} searched for {query}\")\n",
    "        return header\n",
    "        "
   ]
  },
  {
   "cell_type": "code",
   "execution_count": 12,
   "metadata": {},
   "outputs": [],
   "source": [
    "#header = sniff(prn=sniffData)"
   ]
  },
  {
   "cell_type": "code",
   "execution_count": 52,
   "metadata": {},
   "outputs": [
    {
     "data": {
      "text/plain": [
       "<Sniffed: TCP:0 UDP:0 ICMP:0 Other:0>"
      ]
     },
     "execution_count": 52,
     "metadata": {},
     "output_type": "execute_result"
    }
   ],
   "source": [
    "sniff(filter=\"host 192.168.1.200\", lfilter= lambda x: 'GET' in x, prn=lambda x: x.sprintf(\"{Raw:%Raw.load%\\n}\"))"
   ]
  },
  {
   "cell_type": "code",
   "execution_count": 49,
   "metadata": {},
   "outputs": [
    {
     "data": {
      "text/plain": [
       "\u001b[1;31mSignature:\u001b[0m \u001b[0msniff\u001b[0m\u001b[1;33m(\u001b[0m\u001b[1;33m*\u001b[0m\u001b[0margs\u001b[0m\u001b[1;33m,\u001b[0m \u001b[1;33m**\u001b[0m\u001b[0mkwargs\u001b[0m\u001b[1;33m)\u001b[0m\u001b[1;33m\u001b[0m\u001b[0m\n",
       "\u001b[1;31mDocstring:\u001b[0m\n",
       "Sniff packets and return a list of packets.\n",
       "\n",
       "Args:\n",
       "    count: number of packets to capture. 0 means infinity.\n",
       "    store: whether to store sniffed packets or discard them\n",
       "    prn: function to apply to each packet. If something is returned, it\n",
       "         is displayed.\n",
       "         --Ex: prn = lambda x: x.summary()\n",
       "    session: a session = a flow decoder used to handle stream of packets.\n",
       "             e.g: IPSession (to defragment on-the-flow) or NetflowSession\n",
       "    filter: BPF filter to apply.\n",
       "    lfilter: Python function applied to each packet to determine if\n",
       "             further action may be done.\n",
       "             --Ex: lfilter = lambda x: x.haslayer(Padding)\n",
       "    offline: PCAP file (or list of PCAP files) to read packets from,\n",
       "             instead of sniffing them\n",
       "    timeout: stop sniffing after a given time (default: None).\n",
       "    L2socket: use the provided L2socket (default: use conf.L2listen).\n",
       "    opened_socket: provide an object (or a list of objects) ready to use\n",
       "                  .recv() on.\n",
       "    stop_filter: Python function applied to each packet to determine if\n",
       "                 we have to stop the capture after this packet.\n",
       "                 --Ex: stop_filter = lambda x: x.haslayer(TCP)\n",
       "    iface: interface or list of interfaces (default: None for sniffing\n",
       "           on all interfaces).\n",
       "    monitor: use monitor mode. May not be available on all OS\n",
       "    started_callback: called as soon as the sniffer starts sniffing\n",
       "                      (default: None).\n",
       "\n",
       "The iface, offline and opened_socket parameters can be either an\n",
       "element, a list of elements, or a dict object mapping an element to a\n",
       "label (see examples below).\n",
       "\n",
       "Examples: synchronous\n",
       "  >>> sniff(filter=\"arp\")\n",
       "  >>> sniff(filter=\"tcp\",\n",
       "  ...       session=IPSession,  # defragment on-the-flow\n",
       "  ...       prn=lambda x: x.summary())\n",
       "  >>> sniff(lfilter=lambda pkt: ARP in pkt)\n",
       "  >>> sniff(iface=\"eth0\", prn=Packet.summary)\n",
       "  >>> sniff(iface=[\"eth0\", \"mon0\"],\n",
       "  ...       prn=lambda pkt: \"%s: %s\" % (pkt.sniffed_on,\n",
       "  ...                                   pkt.summary()))\n",
       "  >>> sniff(iface={\"eth0\": \"Ethernet\", \"mon0\": \"Wifi\"},\n",
       "  ...       prn=lambda pkt: \"%s: %s\" % (pkt.sniffed_on,\n",
       "  ...                                   pkt.summary()))\n",
       "\n",
       "Examples: asynchronous\n",
       "  >>> t = AsyncSniffer(iface=\"enp0s3\")\n",
       "  >>> t.start()\n",
       "  >>> time.sleep(1)\n",
       "  >>> print(\"nice weather today\")\n",
       "  >>> t.stop()\n",
       "\u001b[1;31mFile:\u001b[0m      c:\\users\\cjhill\\appdata\\local\\continuum\\miniconda3\\lib\\site-packages\\scapy\\sendrecv.py\n",
       "\u001b[1;31mType:\u001b[0m      function\n"
      ]
     },
     "metadata": {},
     "output_type": "display_data"
    }
   ],
   "source": [
    "sniff?"
   ]
  },
  {
   "cell_type": "code",
   "execution_count": 42,
   "metadata": {},
   "outputs": [],
   "source": [
    "x = \"Hello GET off\""
   ]
  },
  {
   "cell_type": "code",
   "execution_count": 45,
   "metadata": {},
   "outputs": [
    {
     "data": {
      "text/plain": [
       "False"
      ]
     },
     "execution_count": 45,
     "metadata": {},
     "output_type": "execute_result"
    }
   ],
   "source": [
    "'GETT' in x"
   ]
  },
  {
   "cell_type": "code",
   "execution_count": null,
   "metadata": {},
   "outputs": [],
   "source": []
  }
 ],
 "metadata": {
  "kernelspec": {
   "display_name": "Python 3",
   "language": "python",
   "name": "python3"
  },
  "language_info": {
   "codemirror_mode": {
    "name": "ipython",
    "version": 3
   },
   "file_extension": ".py",
   "mimetype": "text/x-python",
   "name": "python",
   "nbconvert_exporter": "python",
   "pygments_lexer": "ipython3",
   "version": "3.7.0"
  }
 },
 "nbformat": 4,
 "nbformat_minor": 4
}
