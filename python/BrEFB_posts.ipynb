{
 "cells": [
  {
   "cell_type": "code",
   "execution_count": 1,
   "metadata": {},
   "outputs": [],
   "source": [
    "import brEFB_CJH as brefb\n",
    "from importlib import reload\n",
    "import time\n",
    "import pandas as pd\n",
    "import holoviews as hv\n",
    "import matplotlib.pyplot as plt\n",
    "import numpy as np"
   ]
  },
  {
   "cell_type": "code",
   "execution_count": 2,
   "metadata": {},
   "outputs": [],
   "source": [
    "import urllib.request, json \n",
    "import requests"
   ]
  },
  {
   "cell_type": "code",
   "execution_count": 4,
   "metadata": {},
   "outputs": [
    {
     "name": "stdout",
     "output_type": "stream",
     "text": [
      "b'{\"command\": \"stop\"}'\n",
      "Response from server using urllib: b'{\"success\":false,\"error\":\"No JSON received\"}'\n"
     ]
    }
   ],
   "source": [
    "ip='200'\n",
    "post_url = 'http://192.168.1.'+ip+'/command.php'\n",
    "body = {\n",
    "\"command\":\"stop\"\n",
    "}\n",
    "req = urllib.request.Request(post_url)\n",
    "req.add_header('Content-Type', 'application/json; charset=utf-8')\n",
    "jsondata = json.dumps(body)\n",
    "jsondataasbytes = jsondata.encode('utf-8')   # needs to be bytes\n",
    "req.add_header('Content-Length', len(jsondataasbytes))\n",
    "print (jsondataasbytes)\n",
    "response = urllib.request.urlopen(req, jsondataasbytes)\n",
    "print(f'Response from server using urllib: {response.read()}')"
   ]
  },
  {
   "cell_type": "code",
   "execution_count": 5,
   "metadata": {},
   "outputs": [
    {
     "name": "stdout",
     "output_type": "stream",
     "text": [
      "{\"command\": \"stop\"}\n",
      "Response from server using requests and json.dumps: b'{\"success\":false,\"error\":\"No JSON received\"}'\n",
      "Response from server using requests and python dictionary: b'{\"success\":false,\"error\":\"No JSON received\"}'\n",
      "Response from server using requests and a plain encoded string: b'{\"success\":false,\"error\":\"No JSON received\"}'\n"
     ]
    }
   ],
   "source": [
    "body = {'command':'stop'}\n",
    "payload = '{\"command\":\"stop\"}'.encode('utf-8')\n",
    "jsondata = json.dumps(body)\n",
    "print (jsondata)\n",
    "# this jsondata one seems to send a '\"{\\\\\"command\\\\\": \\\\\"stop\\\\\"}\"'\n",
    "response = requests.post(post_url, json=jsondata)\n",
    "print(f'Response from server using requests and json.dumps: {response.content}')\n",
    "# this data=bode one seems to send 'command=stop'\n",
    "time.sleep(0.25)\n",
    "response = requests.post(post_url, data=body)\n",
    "print(f'Response from server using requests and python dictionary: {response.content}')\n",
    "time.sleep(0.25)\n",
    "response = requests.post(post_url, data=payload)\n",
    "print(f'Response from server using requests and a plain encoded string: {response.content}')"
   ]
  },
  {
   "cell_type": "code",
   "execution_count": 7,
   "metadata": {},
   "outputs": [],
   "source": [
    "#brefb.play_show_requests(3)\n",
    "#brefb.play_show_urllib(3)\n",
    "#brefb.stop_show_requests()"
   ]
  },
  {
   "cell_type": "code",
   "execution_count": null,
   "metadata": {},
   "outputs": [],
   "source": []
  }
 ],
 "metadata": {
  "kernelspec": {
   "display_name": "Python 3",
   "language": "python",
   "name": "python3"
  },
  "language_info": {
   "codemirror_mode": {
    "name": "ipython",
    "version": 3
   },
   "file_extension": ".py",
   "mimetype": "text/x-python",
   "name": "python",
   "nbconvert_exporter": "python",
   "pygments_lexer": "ipython3",
   "version": "3.7.0"
  }
 },
 "nbformat": 4,
 "nbformat_minor": 4
}
