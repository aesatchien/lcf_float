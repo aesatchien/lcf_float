{
 "cells": [
  {
   "cell_type": "markdown",
   "metadata": {},
   "source": [
    "### Fixing br-efb files quickly\n",
    "#### Certain bytes are for transducer ranges and DMX addresses that you can't fix using the web interface.  This takes care of that.  \n",
    "##### 9/28/2019 CJH"
   ]
  },
  {
   "cell_type": "code",
   "execution_count": 1,
   "metadata": {},
   "outputs": [],
   "source": [
    "import numpy as np\n",
    "import struct\n",
    "import difflib"
   ]
  },
  {
   "cell_type": "code",
   "execution_count": 3,
   "metadata": {},
   "outputs": [],
   "source": [
    "file_a= 'br-efb.conf.BANKA_2019ShowCJHCopy.conf'\n",
    "file_b= 'br-efb.conf.BANKB_2019ShowCJHCopy.conf' \n",
    "file_c = 'br-efb_correct_transducer_and_timeouts.conf'\n",
    "file_d = 'br-efb_A_find_pids.conf'\n",
    "file_e = 'br-efb.conf.BANKA_2020_default.conf'\n",
    "file_test = 'brefb_test.conf'\n",
    "\n",
    "'''\n",
    "with open(file_a, mode='rb') as file: # b is important -> binary\n",
    "    a_bin = list(file.read())\n",
    "with open(file_b, mode='rb') as file: # b is important -> binary\n",
    "    b_bin = list(file.read())\n",
    "with open(file_c, mode='rb') as file: # b is important -> binary\n",
    "    c_bin = list(file.read())\n",
    "with open(file_d, mode='rb') as file: # b is important -> binary\n",
    "    d_bin = list(file.read())\n",
    "with open(file_test, mode='rb') as file: # b is important -> binary\n",
    "    e_bin = list(file.read())\n",
    "'''\n",
    "a = np.fromfile(file_a, dtype=np.uint8)\n",
    "b = np.fromfile(file_b, dtype=np.uint8)\n",
    "c = np.fromfile(file_c, dtype=np.uint8)\n",
    "d = np.fromfile(file_d, dtype=np.uint8)\n",
    "e = np.fromfile(file_e, dtype=np.uint8)\n",
    "f = np.fromfile(file_test, dtype=np.uint8)\n"
   ]
  },
  {
   "cell_type": "code",
   "execution_count": 4,
   "metadata": {},
   "outputs": [
    {
     "name": "stdout",
     "output_type": "stream",
     "text": [
      "BR-EFB"
     ]
    }
   ],
   "source": [
    "for ch in a[0:6]:\n",
    "    print (chr(ch),end='')"
   ]
  },
  {
   "cell_type": "code",
   "execution_count": 26,
   "metadata": {},
   "outputs": [],
   "source": [
    "def view_conf(a):\n",
    "    for i in a:\n",
    "        print(i,end=' ')\n",
    "def detail_conf(a):\n",
    "    print(\"Position int(A) chr(a)\")\n",
    "    for idx,i in enumerate(a):\n",
    "        print (f'{idx:8d} {(a[idx]):6d} {chr(a[idx]):>5s}')\n",
    "def compare_conf(a,b):\n",
    "    print(\"Position int(A) int(B) chr(a) chr(b)\")\n",
    "    for idx,i in enumerate(a):\n",
    "        if a[idx] != b[idx]:\n",
    "            print (f'{idx:8d} {(a[idx]):6d} {(b[idx]):6d} {chr(a[idx]):6s} {chr(b[idx]):6s}')\n",
    "def full_compare_conf(a,b,c,d,e,f):\n",
    "    print(\"Position   A_def B_Def   CJH   A_pid   default  test\")\n",
    "    for idx,i in enumerate(a):\n",
    "        if not (a[idx] == b[idx] == c[idx] == d[idx]==e[idx]==f[idx]):\n",
    "        #if  a[idx] == b[idx]  and a[idx]== d[idx] and a[idx]==e[idx] and a[idx]!=c[idx]:\n",
    "            print (f'{idx:8d} {(a[idx]):6d} {(b[idx]):6d} {(c[idx]):6d} {(d[idx]):6d} {(e[idx]):6d} {(f[idx]):6d}')\n",
    "def dual_compare_conf(a,b):\n",
    "    print(\"Position      a      b\")\n",
    "    for idx,i in enumerate(a):\n",
    "        if not (a[idx] == b[idx]):\n",
    "            # print (f'{idx:8d} {(a[idx]):6d} {(b[idx]):6d} {(c[idx]):6d} {(d[idx]):6d}')\n",
    "            print (f'{idx:8d} {(a[idx]):6d} {(b[idx]):6d}')\n",
    "def write_conf(data, fname='brefb_test.conf'):\n",
    "    new_file = open(fname, 'wb')\n",
    "    data = bytearray(data)\n",
    "    new_file.write(data)\n",
    "def compare_files(file_1, file_2):\n",
    "    f1 = np.fromfile(file_1, dtype=np.uint8)\n",
    "    f2 = np.fromfile(file_2, dtype=np.uint8)\n",
    "    print(f\"Position     f1     f2\")\n",
    "    for idx,i in enumerate(a):\n",
    "        if not (f1[idx] == f2[idx]):\n",
    "            print (f'{idx:8d} {(f1[idx]):6d} {(f2[idx]):6d}')"
   ]
  },
  {
   "cell_type": "code",
   "execution_count": 6,
   "metadata": {},
   "outputs": [],
   "source": [
    "def set_transducers(conf):\n",
    "    '''default value for transducer range is -10 to 10 (1) but we want 0 to 10 (3)'''\n",
    "    for i in [48, 50, 52, 54]:\n",
    "        conf[i]=3   \n",
    "def set_dmx(conf, dmx):\n",
    "    '''6 for bank A, 10 for bank B, 0 if standalone?'''\n",
    "    conf[33]=dmx\n",
    "def set_ip(conf, ip):\n",
    "    '''set the ip address - 200 for bank A and 201 for bank B'''\n",
    "    addresses = list(range(36,48))\n",
    "    values = [192,168,1,ip,255,255,255,0,192,168,1,1]\n",
    "    for ad, val in zip(addresses,values):\n",
    "        conf[ad]=val\n",
    "def set_error(conf):\n",
    "    '''set the default error thresholds to a bit softer than default'''\n",
    "    start_addresses =  np.array([108, 172, 236, 300])\n",
    "    for i in start_addresses:\n",
    "        conf[i]=20  # soft error threshhold \n",
    "    for i in start_addresses + 6:\n",
    "        conf[i]= 0\n",
    "    for i in start_addresses + 7:\n",
    "        conf[i]=64\n",
    "    for i in start_addresses + 8:\n",
    "        conf[i]= 0\n",
    "    for i in start_addresses + 9:\n",
    "        conf[i]= 65"
   ]
  },
  {
   "cell_type": "code",
   "execution_count": 16,
   "metadata": {},
   "outputs": [],
   "source": [
    "#dual_compare_conf(e,c)"
   ]
  },
  {
   "cell_type": "code",
   "execution_count": 27,
   "metadata": {},
   "outputs": [
    {
     "name": "stdout",
     "output_type": "stream",
     "text": [
      "Position   A_def B_Def   CJH   A_pid   default  test\n",
      "      33      6     10      0      6      6      0\n",
      "      36      0      0      0    192    192    192\n",
      "      37      0      0      0    168    168    168\n",
      "      38      0      0      0      1      1      1\n",
      "      39      0      0      0    200    200    200\n",
      "      40      0      0      0    255    255    255\n",
      "      41      0      0      0    255    255    255\n",
      "      42      0      0      0    255    255    255\n",
      "      44      0      0      0    192    192    192\n",
      "      45      0      0      0    168    168    168\n",
      "      46      0      0      0      1      1      1\n",
      "      47      0      0      0      1      1      1\n",
      "      48      1      1      3      1      3      3\n",
      "      50      1      1      3      1      3      3\n",
      "      52      1      1      3      1      3      3\n",
      "      54      1      1      3      1      3      3\n",
      "      88      0      0      0    205      0      0\n",
      "      89      0      0      0    204      0      0\n",
      "      90    128    128    128    140    128    128\n",
      "      92      0      0      0    205      0      0\n",
      "      93      0      0      0    204      0      0\n",
      "      94      0      0      0    140      0      0\n",
      "      95      0      0      0     63      0      0\n",
      "      96      0      0      0    205      0      0\n",
      "      97      0      0      0    204      0      0\n",
      "      98      0      0      0    140      0      0\n",
      "      99      0      0      0     63      0      0\n",
      "     108      5      5     20      5      5     20\n",
      "     114    128    128      0    128    128      0\n",
      "     115     63     63     64     63     63     64\n",
      "     117      0      0      0      0      0     65\n",
      "     118    160    160      0    160    160    160\n",
      "     119     64     64     65     64     64     64\n",
      "     122      0      0      0    187      0      0\n",
      "     123    128    128    128    139    128    128\n",
      "     125    127    127    127    239    127    127\n",
      "     129      3      1      1      1      1      1\n",
      "     152      0      0      0    205      0      0\n",
      "     153      0      0      0    204      0      0\n",
      "     154    128     64    128     12    128    128\n",
      "     155     64     63     63     64     63     63\n",
      "     156    154      0      0    205      0      0\n",
      "     157    153      0      0    204      0      0\n",
      "     158    153      0      0     12      0      0\n",
      "     159     63      0      0     64      0      0\n",
      "     160      0      0      0    205      0      0\n",
      "     161      0      0      0    204      0      0\n",
      "     162      0      0      0     12      0      0\n",
      "     163      0      0      0     64      0      0\n",
      "     172      5      5     20      5      5     20\n",
      "     178    128    128      0    128    128      0\n",
      "     179     63     63     64     63     63     64\n",
      "     181      0      0      0      0      0     65\n",
      "     182    160    160      0    160    160    160\n",
      "     183     64     64     65     64     64     64\n",
      "     186     68    119      0    204      0      0\n",
      "     187    148    215    128    140    128    128\n",
      "     188    153    255    255      0    255    255\n",
      "     189    121    127    127    240    127    127\n",
      "     190    204    255    255    204    204    204\n",
      "     191     76    127    127     76     76     76\n",
      "     193      1      3      1      1      1      1\n",
      "     216      0      0      0     51      0      0\n",
      "     217      0      0      0     51      0      0\n",
      "     218      0      0    128     83    128    128\n",
      "     219     63     63     63     64     63     63\n",
      "     220    154    102      0     51      0      0\n",
      "     221    153    102      0     51      0      0\n",
      "     222     25    166      0     83      0      0\n",
      "     223     63     63      0     64      0      0\n",
      "     224      0      0      0     51      0      0\n",
      "     225      0      0      0     51      0      0\n",
      "     226      0      0      0     83      0      0\n",
      "     227      0      0      0     64      0      0\n",
      "     236      5      5     20      5      5     20\n",
      "     242    128    128      0    128    128      0\n",
      "     243     63     63     64     63     63     64\n",
      "     245      0      0      0      0      0     65\n",
      "     246    160    160      0    160    160    160\n",
      "     247     64     64     65     64     64     64\n",
      "     250     17    136      0    221      0      0\n",
      "     251      1      8    128    141    128    128\n",
      "     252    153    238    255     17    255    255\n",
      "     253    105     94    127    241    127    127\n",
      "     254    204    255    255    204    204    204\n",
      "     255     76    127    127     76     76     76\n",
      "     257      3      3      1      1      1      1\n",
      "     280      0      0      0    205      0      0\n",
      "     281      0      0      0    204      0      0\n",
      "     282    128    128    128    140    128    128\n",
      "     283     63     63     63     64     63     63\n",
      "     284      0      0      0    205      0      0\n",
      "     285      0      0      0    204      0      0\n",
      "     286      0      0      0    140      0      0\n",
      "     287      0      0      0     64      0      0\n",
      "     288      0      0      0    205      0      0\n",
      "     289      0      0      0    204      0      0\n",
      "     290      0      0      0    140      0      0\n",
      "     291      0      0      0     64      0      0\n",
      "     300      5      5     20      5      5     20\n",
      "     306    128    128      0    128    128      0\n",
      "     307     63     63     64     63     63     64\n",
      "     309      0      0      0      0      0     65\n",
      "     310    160    160      0    160    160    160\n",
      "     311     64     64     65     64     64     64\n",
      "     314      0      0      0    238      0      0\n",
      "     315    128    128    128    142    128    128\n",
      "     316    255    255    255     34    255    255\n",
      "     317    127    127    127    242    127    127\n",
      "     318    204    255    255    204    204    204\n",
      "     319     76    127    127     76     76     76\n",
      "     321      1      0      1      1      1      1\n",
      "     853    255      0      0    255    255    255\n",
      "     863      0    255      0      0      0      0\n",
      "    1365    130      0      0    130    130    130\n",
      "    1371    249      0      0    249    249    249\n",
      "    1372    233      0      0    233    233    233\n",
      "    1375      0    125      0      0      0      0\n",
      "    1376      0    255      0      0      0      0\n"
     ]
    }
   ],
   "source": [
    "full_compare_conf(a,b,c,d,e,f) "
   ]
  },
  {
   "cell_type": "markdown",
   "metadata": {},
   "source": [
    "At any rate, you can act on the 2019 bank A config to get the ones for rpi control and use the br-efb_correct_transducer_and_timeouts.conf for the local ones.\n",
    "Something is screwing up one of the local channels - I think the way it writes 0 or 1 to the DMX may be the issue."
   ]
  },
  {
   "cell_type": "code",
   "execution_count": 24,
   "metadata": {},
   "outputs": [],
   "source": [
    "# fix a file to be pristine and ready for tuning\n",
    "# start with one of the 2019 good configurations and strip out the PIDs manually (not going to spend the time to find them all)\n",
    "#file_1='br-efb.conf.BANKA_2020_default.conf'\n",
    "file_1 = 'br-efb_correct_transducer_and_timeouts.conf'\n",
    "conf = np.fromfile(file_1, dtype=np.uint8)\n",
    "dmx = 0 # 6 for A, 10 for B, 1 for local\n",
    "ip = 201  # 200 for A, 201 for B\n",
    "# change values and write to file\n",
    "set_transducers(conf)\n",
    "set_dmx(conf,dmx)\n",
    "set_ip(conf,ip)\n",
    "#set_error(conf)\n",
    "write_conf(conf)"
   ]
  },
  {
   "cell_type": "code",
   "execution_count": 30,
   "metadata": {},
   "outputs": [
    {
     "name": "stdout",
     "output_type": "stream",
     "text": [
      "Position     f1     f2\n",
      "      33      0      1\n",
      "      36      0    192\n",
      "      37      0    168\n",
      "      38      0      1\n",
      "      39      0    201\n",
      "      40      0    255\n",
      "      41      0    255\n",
      "      42      0    255\n",
      "      44      0    192\n",
      "      45      0    168\n",
      "      46      0      1\n",
      "      47      0      1\n"
     ]
    }
   ],
   "source": [
    "file_1= 'br-efb_correct_transducer_and_timeouts.conf'\n",
    "#file_2='br-efb.conf.BANKB_2020_default_soft_errors_local.conf'\n",
    "file_2='br-efb.conf.BANKA_2020_default_soft_errors_local.conf'\n",
    "compare_files(file_1, file_2)"
   ]
  },
  {
   "cell_type": "code",
   "execution_count": 34,
   "metadata": {},
   "outputs": [],
   "source": []
  },
  {
   "cell_type": "code",
   "execution_count": null,
   "metadata": {},
   "outputs": [],
   "source": []
  }
 ],
 "metadata": {
  "kernelspec": {
   "display_name": "Python 3",
   "language": "python",
   "name": "python3"
  },
  "language_info": {
   "codemirror_mode": {
    "name": "ipython",
    "version": 3
   },
   "file_extension": ".py",
   "mimetype": "text/x-python",
   "name": "python",
   "nbconvert_exporter": "python",
   "pygments_lexer": "ipython3",
   "version": "3.7.3"
  }
 },
 "nbformat": 4,
 "nbformat_minor": 2
}
